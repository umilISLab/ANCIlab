{
 "cells": [
  {
   "cell_type": "code",
   "execution_count": 15,
   "metadata": {},
   "outputs": [],
   "source": [
    "import pandas as pd\n",
    "from nltk import word_tokenize"
   ]
  },
  {
   "cell_type": "code",
   "execution_count": 3,
   "metadata": {},
   "outputs": [
    {
     "data": {
      "text/html": [
       "<div>\n",
       "<style scoped>\n",
       "    .dataframe tbody tr th:only-of-type {\n",
       "        vertical-align: middle;\n",
       "    }\n",
       "\n",
       "    .dataframe tbody tr th {\n",
       "        vertical-align: top;\n",
       "    }\n",
       "\n",
       "    .dataframe thead th {\n",
       "        text-align: right;\n",
       "    }\n",
       "</style>\n",
       "<table border=\"1\" class=\"dataframe\">\n",
       "  <thead>\n",
       "    <tr style=\"text-align: right;\">\n",
       "      <th></th>\n",
       "      <th>name</th>\n",
       "      <th>clean_text</th>\n",
       "      <th>category_tag</th>\n",
       "      <th>topic_tags</th>\n",
       "    </tr>\n",
       "  </thead>\n",
       "  <tbody>\n",
       "    <tr>\n",
       "      <th>0</th>\n",
       "      <td>https://comune.gorgonzola.mi.it</td>\n",
       "      <td>Gorgonzola Vai ai contenuti Vai al\\n footer A...</td>\n",
       "      <td>[]</td>\n",
       "      <td>[]</td>\n",
       "    </tr>\n",
       "    <tr>\n",
       "      <th>1</th>\n",
       "      <td>https://comune.gorgonzola.mi.it/privacy</td>\n",
       "      <td>Privacy – Gorgonzola Vai ai contenuti Vai al\\n...</td>\n",
       "      <td>[]</td>\n",
       "      <td>[Accesso all'informazione]</td>\n",
       "    </tr>\n",
       "    <tr>\n",
       "      <th>2</th>\n",
       "      <td>https://comune.gorgonzola.mi.it/servizio/tipol...</td>\n",
       "      <td>Agricoltura e pesca – Gorgonzola Vai ai conten...</td>\n",
       "      <td>[]</td>\n",
       "      <td>[]</td>\n",
       "    </tr>\n",
       "    <tr>\n",
       "      <th>3</th>\n",
       "      <td>https://comune.gorgonzola.mi.it/servizio/tipol...</td>\n",
       "      <td>Catasto e urbanistica – Gorgonzola Vai ai cont...</td>\n",
       "      <td>[]</td>\n",
       "      <td>[]</td>\n",
       "    </tr>\n",
       "    <tr>\n",
       "      <th>4</th>\n",
       "      <td>https://comune.gorgonzola.mi.it/vivere-il-comu...</td>\n",
       "      <td>I diritti dell’uomo: Cos’è persona? Cosa sono ...</td>\n",
       "      <td>[]</td>\n",
       "      <td>[]</td>\n",
       "    </tr>\n",
       "  </tbody>\n",
       "</table>\n",
       "</div>"
      ],
      "text/plain": [
       "                                                name  \\\n",
       "0                    https://comune.gorgonzola.mi.it   \n",
       "1            https://comune.gorgonzola.mi.it/privacy   \n",
       "2  https://comune.gorgonzola.mi.it/servizio/tipol...   \n",
       "3  https://comune.gorgonzola.mi.it/servizio/tipol...   \n",
       "4  https://comune.gorgonzola.mi.it/vivere-il-comu...   \n",
       "\n",
       "                                          clean_text category_tag  \\\n",
       "0   Gorgonzola Vai ai contenuti Vai al\\n footer A...           []   \n",
       "1  Privacy – Gorgonzola Vai ai contenuti Vai al\\n...           []   \n",
       "2  Agricoltura e pesca – Gorgonzola Vai ai conten...           []   \n",
       "3  Catasto e urbanistica – Gorgonzola Vai ai cont...           []   \n",
       "4  I diritti dell’uomo: Cos’è persona? Cosa sono ...           []   \n",
       "\n",
       "                   topic_tags  \n",
       "0                          []  \n",
       "1  [Accesso all'informazione]  \n",
       "2                          []  \n",
       "3                          []  \n",
       "4                          []  "
      ]
     },
     "execution_count": 3,
     "metadata": {},
     "output_type": "execute_result"
    }
   ],
   "source": [
    "df = pd.read_json(\"all_data.json\")\n",
    "df.head()"
   ]
  },
  {
   "cell_type": "code",
   "execution_count": 6,
   "metadata": {},
   "outputs": [
    {
     "data": {
      "text/plain": [
       "(place\n",
       " mandello      124\n",
       " gorgonzola     90\n",
       " pioltello      73\n",
       " tirano         69\n",
       " dtype: int64,\n",
       " 89.0)"
      ]
     },
     "execution_count": 6,
     "metadata": {},
     "output_type": "execute_result"
    }
   ],
   "source": [
    "df['place'] = df['name'].apply(lambda s: s.split(\"//\")[1].split(\".\")[1])\n",
    "df.value_counts('place'), df.value_counts('place').mean()"
   ]
  },
  {
   "cell_type": "code",
   "execution_count": null,
   "metadata": {},
   "outputs": [],
   "source": [
    "pages_with_tags = df[(df['topic_tags'].apply(len).apply(bool) | df['category_tag'].apply(len).apply(bool))]"
   ]
  },
  {
   "cell_type": "code",
   "execution_count": 23,
   "metadata": {},
   "outputs": [
    {
     "data": {
      "text/plain": [
       "((97, 5), (19, 5))"
      ]
     },
     "execution_count": 23,
     "metadata": {},
     "output_type": "execute_result"
    }
   ],
   "source": [
    "pages_with_tags[pages_with_tags['topic_tags'].apply(len) > 0].shape, pages_with_tags[pages_with_tags['category_tag'].apply(len) > 0].shape"
   ]
  },
  {
   "cell_type": "code",
   "execution_count": 13,
   "metadata": {},
   "outputs": [
    {
     "data": {
      "text/plain": [
       "(place\n",
       " mandello      42\n",
       " gorgonzola    34\n",
       " pioltello     14\n",
       " tirano         7\n",
       " dtype: int64,\n",
       " 24.25)"
      ]
     },
     "execution_count": 13,
     "metadata": {},
     "output_type": "execute_result"
    }
   ],
   "source": [
    "pages_with_tags.value_counts('place'), pages_with_tags.value_counts('place').mean()"
   ]
  },
  {
   "cell_type": "code",
   "execution_count": 17,
   "metadata": {},
   "outputs": [
    {
     "data": {
      "text/plain": [
       "2.1237113402061856"
      ]
     },
     "execution_count": 17,
     "metadata": {},
     "output_type": "execute_result"
    }
   ],
   "source": [
    "pages_with_tags['topic_tags'].apply(len).mean()"
   ]
  },
  {
   "cell_type": "code",
   "execution_count": 24,
   "metadata": {},
   "outputs": [
    {
     "data": {
      "text/plain": [
       "Tempo libero                        30\n",
       "Accesso all'informazione            22\n",
       "Patrimonio culturale                16\n",
       "Commemorazione - Ricorrenza         10\n",
       "Comunicazione istituzionale         10\n",
       "Commercio ambulante                 10\n",
       "Assistenza sociale                   8\n",
       "Istruzione                           8\n",
       "Turismo                              8\n",
       "Sport                                8\n",
       "Protezione civile                    7\n",
       "Lavoro                               6\n",
       "Biblioteca                           4\n",
       "Gestione rifiuti                     4\n",
       "Spettacolo teatrale                  4\n",
       "Igiene pubblica                      3\n",
       "Risposta alle emergenze              3\n",
       "Assistenza agli invalidi             3\n",
       "Urbanizzazione                       3\n",
       "Sviluppo sostenibile                 3\n",
       "Piano di sviluppo                    3\n",
       "Mercato                              2\n",
       "Associazioni                         2\n",
       "Imprese                              2\n",
       "Residenza                            2\n",
       "Concerto                             2\n",
       "Mercatino dell'antiquariato          2\n",
       "Proiezione cinematografica           2\n",
       "Iniziativa per bambini e ragazzi     1\n",
       "Esposizione - Rassegna               1\n",
       "Partecipazione                       1\n",
       "Cultura e patrimonio culturale       1\n",
       "C.I.M.                               1\n",
       "Urbanistica                          1\n",
       "Imposte                              1\n",
       "Concorsi                             1\n",
       "Politica commerciale                 1\n",
       "Commercio al minuto                  1\n",
       "Manifestazione sportiva              1\n",
       "Festa                                1\n",
       "Manifestazione musicale              1\n",
       "Incontro                             1\n",
       "Mobilità sostenibile                 1\n",
       "Spazio Verde                         1\n",
       "Formazione professionale             1\n",
       "Comunicazione politica               1\n",
       "Nascita                              1\n",
       "Name: topic_tags, dtype: int64"
      ]
     },
     "execution_count": 24,
     "metadata": {},
     "output_type": "execute_result"
    }
   ],
   "source": [
    "pages_with_tags['topic_tags'].explode().value_counts()"
   ]
  },
  {
   "cell_type": "code",
   "execution_count": 16,
   "metadata": {},
   "outputs": [
    {
     "data": {
      "text/plain": [
       "845.4466292134831"
      ]
     },
     "execution_count": 16,
     "metadata": {},
     "output_type": "execute_result"
    }
   ],
   "source": [
    "df['clean_text'].apply(word_tokenize).apply(len).mean()"
   ]
  }
 ],
 "metadata": {
  "kernelspec": {
   "display_name": "3.10.5",
   "language": "python",
   "name": "python3"
  },
  "language_info": {
   "codemirror_mode": {
    "name": "ipython",
    "version": 3
   },
   "file_extension": ".py",
   "mimetype": "text/x-python",
   "name": "python",
   "nbconvert_exporter": "python",
   "pygments_lexer": "ipython3",
   "version": "3.10.5"
  }
 },
 "nbformat": 4,
 "nbformat_minor": 2
}
